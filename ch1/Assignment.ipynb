{
 "cells": [
  {
   "cell_type": "markdown",
   "id": "ad26581e",
   "metadata": {},
   "source": [
    "#### 1. What is the numpy version\n",
    "\n",
    "> version 1.23.3"
   ]
  },
  {
   "cell_type": "code",
   "execution_count": 1,
   "id": "65c990df",
   "metadata": {},
   "outputs": [
    {
     "data": {
      "text/plain": [
       "'1.23.3'"
      ]
     },
     "execution_count": 1,
     "metadata": {},
     "output_type": "execute_result"
    }
   ],
   "source": [
    "import numpy as np\n",
    "\n",
    "np.__version__"
   ]
  },
  {
   "cell_type": "code",
   "execution_count": 2,
   "id": "ec50c30e",
   "metadata": {},
   "outputs": [],
   "source": [
    "import wget"
   ]
  },
  {
   "cell_type": "code",
   "execution_count": 3,
   "id": "be7c1914",
   "metadata": {},
   "outputs": [
    {
     "name": "stdout",
     "output_type": "stream",
     "text": [
      "\r",
      "  0% [                                                      ]       0 / 1475504\r",
      "  0% [                                                      ]    8192 / 1475504\r",
      "  1% [                                                      ]   16384 / 1475504\r",
      "  1% [                                                      ]   24576 / 1475504\r",
      "  2% [.                                                     ]   32768 / 1475504\r",
      "  2% [.                                                     ]   40960 / 1475504\r",
      "  3% [.                                                     ]   49152 / 1475504\r",
      "  3% [..                                                    ]   57344 / 1475504\r",
      "  4% [..                                                    ]   65536 / 1475504\r",
      "  4% [..                                                    ]   73728 / 1475504\r",
      "  5% [..                                                    ]   81920 / 1475504\r",
      "  6% [...                                                   ]   90112 / 1475504\r",
      "  6% [...                                                   ]   98304 / 1475504\r",
      "  7% [...                                                   ]  106496 / 1475504\r",
      "  7% [....                                                  ]  114688 / 1475504\r",
      "  8% [....                                                  ]  122880 / 1475504\r",
      "  8% [....                                                  ]  131072 / 1475504\r",
      "  9% [.....                                                 ]  139264 / 1475504\r",
      "  9% [.....                                                 ]  147456 / 1475504\r",
      " 10% [.....                                                 ]  155648 / 1475504\r",
      " 11% [.....                                                 ]  163840 / 1475504\r",
      " 11% [......                                                ]  172032 / 1475504\r",
      " 12% [......                                                ]  180224 / 1475504\r",
      " 12% [......                                                ]  188416 / 1475504\r",
      " 13% [.......                                               ]  196608 / 1475504\r",
      " 13% [.......                                               ]  204800 / 1475504\r",
      " 14% [.......                                               ]  212992 / 1475504\r",
      " 14% [........                                              ]  221184 / 1475504\r",
      " 15% [........                                              ]  229376 / 1475504\r",
      " 16% [........                                              ]  237568 / 1475504\r",
      " 16% [........                                              ]  245760 / 1475504\r",
      " 17% [.........                                             ]  253952 / 1475504\r",
      " 17% [.........                                             ]  262144 / 1475504\r",
      " 18% [.........                                             ]  270336 / 1475504\r",
      " 18% [..........                                            ]  278528 / 1475504\r",
      " 19% [..........                                            ]  286720 / 1475504\r",
      " 19% [..........                                            ]  294912 / 1475504\r",
      " 20% [...........                                           ]  303104 / 1475504\r",
      " 21% [...........                                           ]  311296 / 1475504\r",
      " 21% [...........                                           ]  319488 / 1475504\r",
      " 22% [...........                                           ]  327680 / 1475504\r",
      " 22% [............                                          ]  335872 / 1475504\r",
      " 23% [............                                          ]  344064 / 1475504\r",
      " 23% [............                                          ]  352256 / 1475504\r",
      " 24% [.............                                         ]  360448 / 1475504\r",
      " 24% [.............                                         ]  368640 / 1475504\r",
      " 25% [.............                                         ]  376832 / 1475504\r",
      " 26% [..............                                        ]  385024 / 1475504\r",
      " 26% [..............                                        ]  393216 / 1475504\r",
      " 27% [..............                                        ]  401408 / 1475504\r",
      " 27% [..............                                        ]  409600 / 1475504\r",
      " 28% [...............                                       ]  417792 / 1475504\r",
      " 28% [...............                                       ]  425984 / 1475504\r",
      " 29% [...............                                       ]  434176 / 1475504\r",
      " 29% [................                                      ]  442368 / 1475504\r",
      " 30% [................                                      ]  450560 / 1475504\r",
      " 31% [................                                      ]  458752 / 1475504\r",
      " 31% [.................                                     ]  466944 / 1475504\r",
      " 32% [.................                                     ]  475136 / 1475504\r",
      " 32% [.................                                     ]  483328 / 1475504\r",
      " 33% [.................                                     ]  491520 / 1475504\r",
      " 33% [..................                                    ]  499712 / 1475504\r",
      " 34% [..................                                    ]  507904 / 1475504\r",
      " 34% [..................                                    ]  516096 / 1475504\r",
      " 35% [...................                                   ]  524288 / 1475504\r",
      " 36% [...................                                   ]  532480 / 1475504\r",
      " 36% [...................                                   ]  540672 / 1475504\r",
      " 37% [....................                                  ]  548864 / 1475504\r",
      " 37% [....................                                  ]  557056 / 1475504\r",
      " 38% [....................                                  ]  565248 / 1475504\r",
      " 38% [....................                                  ]  573440 / 1475504\r",
      " 39% [.....................                                 ]  581632 / 1475504\r",
      " 39% [.....................                                 ]  589824 / 1475504\r",
      " 40% [.....................                                 ]  598016 / 1475504\r",
      " 41% [......................                                ]  606208 / 1475504\r",
      " 41% [......................                                ]  614400 / 1475504\r",
      " 42% [......................                                ]  622592 / 1475504\r",
      " 42% [.......................                               ]  630784 / 1475504\r",
      " 43% [.......................                               ]  638976 / 1475504\r",
      " 43% [.......................                               ]  647168 / 1475504\r",
      " 44% [.......................                               ]  655360 / 1475504\r",
      " 44% [........................                              ]  663552 / 1475504\r",
      " 45% [........................                              ]  671744 / 1475504\r",
      " 46% [........................                              ]  679936 / 1475504\r",
      " 46% [.........................                             ]  688128 / 1475504\r",
      " 47% [.........................                             ]  696320 / 1475504\r",
      " 47% [.........................                             ]  704512 / 1475504\r",
      " 48% [..........................                            ]  712704 / 1475504\r",
      " 48% [..........................                            ]  720896 / 1475504\r",
      " 49% [..........................                            ]  729088 / 1475504\r",
      " 49% [..........................                            ]  737280 / 1475504\r",
      " 50% [...........................                           ]  745472 / 1475504\r",
      " 51% [...........................                           ]  753664 / 1475504\r",
      " 51% [...........................                           ]  761856 / 1475504\r",
      " 52% [............................                          ]  770048 / 1475504\r",
      " 52% [............................                          ]  778240 / 1475504\r",
      " 53% [............................                          ]  786432 / 1475504\r",
      " 53% [.............................                         ]  794624 / 1475504\r",
      " 54% [.............................                         ]  802816 / 1475504\r",
      " 54% [.............................                         ]  811008 / 1475504\r",
      " 55% [.............................                         ]  819200 / 1475504\r",
      " 56% [..............................                        ]  827392 / 1475504\r",
      " 56% [..............................                        ]  835584 / 1475504\r",
      " 57% [..............................                        ]  843776 / 1475504\r",
      " 57% [...............................                       ]  851968 / 1475504\r",
      " 58% [...............................                       ]  860160 / 1475504\r",
      " 58% [...............................                       ]  868352 / 1475504\r",
      " 59% [................................                      ]  876544 / 1475504\r",
      " 59% [................................                      ]  884736 / 1475504\r",
      " 60% [................................                      ]  892928 / 1475504\r",
      " 61% [................................                      ]  901120 / 1475504\r",
      " 61% [.................................                     ]  909312 / 1475504\r",
      " 62% [.................................                     ]  917504 / 1475504\r",
      " 62% [.................................                     ]  925696 / 1475504\r",
      " 63% [..................................                    ]  933888 / 1475504\r",
      " 63% [..................................                    ]  942080 / 1475504\r",
      " 64% [..................................                    ]  950272 / 1475504\r",
      " 64% [...................................                   ]  958464 / 1475504\r",
      " 65% [...................................                   ]  966656 / 1475504\r",
      " 66% [...................................                   ]  974848 / 1475504\r",
      " 66% [...................................                   ]  983040 / 1475504\r",
      " 67% [....................................                  ]  991232 / 1475504\r",
      " 67% [....................................                  ]  999424 / 1475504\r",
      " 68% [....................................                  ] 1007616 / 1475504\r",
      " 68% [.....................................                 ] 1015808 / 1475504\r",
      " 69% [.....................................                 ] 1024000 / 1475504\r",
      " 69% [.....................................                 ] 1032192 / 1475504\r",
      " 70% [......................................                ] 1040384 / 1475504\r",
      " 71% [......................................                ] 1048576 / 1475504\r",
      " 71% [......................................                ] 1056768 / 1475504\r",
      " 72% [......................................                ] 1064960 / 1475504\r",
      " 72% [.......................................               ] 1073152 / 1475504\r",
      " 73% [.......................................               ] 1081344 / 1475504\r",
      " 73% [.......................................               ] 1089536 / 1475504\r",
      " 74% [........................................              ] 1097728 / 1475504\r",
      " 74% [........................................              ] 1105920 / 1475504\r",
      " 75% [........................................              ] 1114112 / 1475504\r",
      " 76% [.........................................             ] 1122304 / 1475504\r",
      " 76% [.........................................             ] 1130496 / 1475504\r",
      " 77% [.........................................             ] 1138688 / 1475504\r",
      " 77% [.........................................             ] 1146880 / 1475504\r",
      " 78% [..........................................            ] 1155072 / 1475504\r",
      " 78% [..........................................            ] 1163264 / 1475504\r",
      " 79% [..........................................            ] 1171456 / 1475504\r",
      " 79% [...........................................           ] 1179648 / 1475504\r",
      " 80% [...........................................           ] 1187840 / 1475504\r",
      " 81% [...........................................           ] 1196032 / 1475504\r",
      " 81% [............................................          ] 1204224 / 1475504\r",
      " 82% [............................................          ] 1212416 / 1475504\r",
      " 82% [............................................          ] 1220608 / 1475504\r",
      " 83% [............................................          ] 1228800 / 1475504\r",
      " 83% [.............................................         ] 1236992 / 1475504\r",
      " 84% [.............................................         ] 1245184 / 1475504\r",
      " 84% [.............................................         ] 1253376 / 1475504\r",
      " 85% [..............................................        ] 1261568 / 1475504\r",
      " 86% [..............................................        ] 1269760 / 1475504\r",
      " 86% [..............................................        ] 1277952 / 1475504\r",
      " 87% [...............................................       ] 1286144 / 1475504\r",
      " 87% [...............................................       ] 1294336 / 1475504\r",
      " 88% [...............................................       ] 1302528 / 1475504\r",
      " 88% [...............................................       ] 1310720 / 1475504\r",
      " 89% [................................................      ] 1318912 / 1475504\r",
      " 89% [................................................      ] 1327104 / 1475504\r",
      " 90% [................................................      ] 1335296 / 1475504\r",
      " 91% [.................................................     ] 1343488 / 1475504\r",
      " 91% [.................................................     ] 1351680 / 1475504\r",
      " 92% [.................................................     ] 1359872 / 1475504\r",
      " 92% [..................................................    ] 1368064 / 1475504\r",
      " 93% [..................................................    ] 1376256 / 1475504\r",
      " 93% [..................................................    ] 1384448 / 1475504\r",
      " 94% [..................................................    ] 1392640 / 1475504\r",
      " 94% [...................................................   ] 1400832 / 1475504\r",
      " 95% [...................................................   ] 1409024 / 1475504\r",
      " 96% [...................................................   ] 1417216 / 1475504\r",
      " 96% [....................................................  ] 1425408 / 1475504\r",
      " 97% [....................................................  ] 1433600 / 1475504\r",
      " 97% [....................................................  ] 1441792 / 1475504\r",
      " 98% [..................................................... ] 1449984 / 1475504\r",
      " 98% [..................................................... ] 1458176 / 1475504\r",
      " 99% [..................................................... ] 1466368 / 1475504\r",
      " 99% [..................................................... ] 1474560 / 1475504\r",
      "100% [......................................................] 1475504 / 1475504"
     ]
    }
   ],
   "source": [
    "url= \"https://raw.githubusercontent.com/alexeygrigorev/mlbookcamp-code/master/chapter-02-car-price/data.csv\"\n",
    "data = wget.download(url)\n"
   ]
  },
  {
   "cell_type": "markdown",
   "id": "62a1c495",
   "metadata": {},
   "source": [
    "#### 2. Number of records\n",
    "\n",
    "> 11914"
   ]
  },
  {
   "cell_type": "code",
   "execution_count": 4,
   "id": "316314e3",
   "metadata": {},
   "outputs": [
    {
     "data": {
      "text/html": [
       "<div>\n",
       "<style scoped>\n",
       "    .dataframe tbody tr th:only-of-type {\n",
       "        vertical-align: middle;\n",
       "    }\n",
       "\n",
       "    .dataframe tbody tr th {\n",
       "        vertical-align: top;\n",
       "    }\n",
       "\n",
       "    .dataframe thead th {\n",
       "        text-align: right;\n",
       "    }\n",
       "</style>\n",
       "<table border=\"1\" class=\"dataframe\">\n",
       "  <thead>\n",
       "    <tr style=\"text-align: right;\">\n",
       "      <th></th>\n",
       "      <th>Make</th>\n",
       "      <th>Model</th>\n",
       "      <th>Year</th>\n",
       "      <th>Engine Fuel Type</th>\n",
       "      <th>Engine HP</th>\n",
       "      <th>Engine Cylinders</th>\n",
       "      <th>Transmission Type</th>\n",
       "      <th>Driven_Wheels</th>\n",
       "      <th>Number of Doors</th>\n",
       "      <th>Market Category</th>\n",
       "      <th>Vehicle Size</th>\n",
       "      <th>Vehicle Style</th>\n",
       "      <th>highway MPG</th>\n",
       "      <th>city mpg</th>\n",
       "      <th>Popularity</th>\n",
       "      <th>MSRP</th>\n",
       "    </tr>\n",
       "  </thead>\n",
       "  <tbody>\n",
       "    <tr>\n",
       "      <th>0</th>\n",
       "      <td>BMW</td>\n",
       "      <td>1 Series M</td>\n",
       "      <td>2011</td>\n",
       "      <td>premium unleaded (required)</td>\n",
       "      <td>335.0</td>\n",
       "      <td>6.0</td>\n",
       "      <td>MANUAL</td>\n",
       "      <td>rear wheel drive</td>\n",
       "      <td>2.0</td>\n",
       "      <td>Factory Tuner,Luxury,High-Performance</td>\n",
       "      <td>Compact</td>\n",
       "      <td>Coupe</td>\n",
       "      <td>26</td>\n",
       "      <td>19</td>\n",
       "      <td>3916</td>\n",
       "      <td>46135</td>\n",
       "    </tr>\n",
       "    <tr>\n",
       "      <th>1</th>\n",
       "      <td>BMW</td>\n",
       "      <td>1 Series</td>\n",
       "      <td>2011</td>\n",
       "      <td>premium unleaded (required)</td>\n",
       "      <td>300.0</td>\n",
       "      <td>6.0</td>\n",
       "      <td>MANUAL</td>\n",
       "      <td>rear wheel drive</td>\n",
       "      <td>2.0</td>\n",
       "      <td>Luxury,Performance</td>\n",
       "      <td>Compact</td>\n",
       "      <td>Convertible</td>\n",
       "      <td>28</td>\n",
       "      <td>19</td>\n",
       "      <td>3916</td>\n",
       "      <td>40650</td>\n",
       "    </tr>\n",
       "    <tr>\n",
       "      <th>2</th>\n",
       "      <td>BMW</td>\n",
       "      <td>1 Series</td>\n",
       "      <td>2011</td>\n",
       "      <td>premium unleaded (required)</td>\n",
       "      <td>300.0</td>\n",
       "      <td>6.0</td>\n",
       "      <td>MANUAL</td>\n",
       "      <td>rear wheel drive</td>\n",
       "      <td>2.0</td>\n",
       "      <td>Luxury,High-Performance</td>\n",
       "      <td>Compact</td>\n",
       "      <td>Coupe</td>\n",
       "      <td>28</td>\n",
       "      <td>20</td>\n",
       "      <td>3916</td>\n",
       "      <td>36350</td>\n",
       "    </tr>\n",
       "    <tr>\n",
       "      <th>3</th>\n",
       "      <td>BMW</td>\n",
       "      <td>1 Series</td>\n",
       "      <td>2011</td>\n",
       "      <td>premium unleaded (required)</td>\n",
       "      <td>230.0</td>\n",
       "      <td>6.0</td>\n",
       "      <td>MANUAL</td>\n",
       "      <td>rear wheel drive</td>\n",
       "      <td>2.0</td>\n",
       "      <td>Luxury,Performance</td>\n",
       "      <td>Compact</td>\n",
       "      <td>Coupe</td>\n",
       "      <td>28</td>\n",
       "      <td>18</td>\n",
       "      <td>3916</td>\n",
       "      <td>29450</td>\n",
       "    </tr>\n",
       "    <tr>\n",
       "      <th>4</th>\n",
       "      <td>BMW</td>\n",
       "      <td>1 Series</td>\n",
       "      <td>2011</td>\n",
       "      <td>premium unleaded (required)</td>\n",
       "      <td>230.0</td>\n",
       "      <td>6.0</td>\n",
       "      <td>MANUAL</td>\n",
       "      <td>rear wheel drive</td>\n",
       "      <td>2.0</td>\n",
       "      <td>Luxury</td>\n",
       "      <td>Compact</td>\n",
       "      <td>Convertible</td>\n",
       "      <td>28</td>\n",
       "      <td>18</td>\n",
       "      <td>3916</td>\n",
       "      <td>34500</td>\n",
       "    </tr>\n",
       "  </tbody>\n",
       "</table>\n",
       "</div>"
      ],
      "text/plain": [
       "  Make       Model  Year             Engine Fuel Type  Engine HP  \\\n",
       "0  BMW  1 Series M  2011  premium unleaded (required)      335.0   \n",
       "1  BMW    1 Series  2011  premium unleaded (required)      300.0   \n",
       "2  BMW    1 Series  2011  premium unleaded (required)      300.0   \n",
       "3  BMW    1 Series  2011  premium unleaded (required)      230.0   \n",
       "4  BMW    1 Series  2011  premium unleaded (required)      230.0   \n",
       "\n",
       "   Engine Cylinders Transmission Type     Driven_Wheels  Number of Doors  \\\n",
       "0               6.0            MANUAL  rear wheel drive              2.0   \n",
       "1               6.0            MANUAL  rear wheel drive              2.0   \n",
       "2               6.0            MANUAL  rear wheel drive              2.0   \n",
       "3               6.0            MANUAL  rear wheel drive              2.0   \n",
       "4               6.0            MANUAL  rear wheel drive              2.0   \n",
       "\n",
       "                         Market Category Vehicle Size Vehicle Style  \\\n",
       "0  Factory Tuner,Luxury,High-Performance      Compact         Coupe   \n",
       "1                     Luxury,Performance      Compact   Convertible   \n",
       "2                Luxury,High-Performance      Compact         Coupe   \n",
       "3                     Luxury,Performance      Compact         Coupe   \n",
       "4                                 Luxury      Compact   Convertible   \n",
       "\n",
       "   highway MPG  city mpg  Popularity   MSRP  \n",
       "0           26        19        3916  46135  \n",
       "1           28        19        3916  40650  \n",
       "2           28        20        3916  36350  \n",
       "3           28        18        3916  29450  \n",
       "4           28        18        3916  34500  "
      ]
     },
     "execution_count": 4,
     "metadata": {},
     "output_type": "execute_result"
    }
   ],
   "source": [
    "import pandas as pd\n",
    "df = pd.read_csv(data)\n",
    "df.head()"
   ]
  },
  {
   "cell_type": "code",
   "execution_count": 5,
   "id": "612c48b5",
   "metadata": {},
   "outputs": [
    {
     "data": {
      "text/plain": [
       "11914"
      ]
     },
     "execution_count": 5,
     "metadata": {},
     "output_type": "execute_result"
    }
   ],
   "source": [
    "len(df.index)"
   ]
  },
  {
   "cell_type": "code",
   "execution_count": 6,
   "id": "e3df716b",
   "metadata": {},
   "outputs": [
    {
     "data": {
      "text/plain": [
       "11914"
      ]
     },
     "execution_count": 6,
     "metadata": {},
     "output_type": "execute_result"
    }
   ],
   "source": [
    "df.shape[0]"
   ]
  },
  {
   "cell_type": "code",
   "execution_count": 7,
   "id": "af5db9b9",
   "metadata": {},
   "outputs": [
    {
     "data": {
      "text/plain": [
       "11914"
      ]
     },
     "execution_count": 7,
     "metadata": {},
     "output_type": "execute_result"
    }
   ],
   "source": [
    "df[df.columns[0]].count()"
   ]
  },
  {
   "cell_type": "markdown",
   "id": "c493328f",
   "metadata": {},
   "source": [
    "#### 3. Top 3 manufacturers\n",
    "> Chevrolet, Ford, VW"
   ]
  },
  {
   "cell_type": "code",
   "execution_count": 8,
   "id": "a6ddfbef",
   "metadata": {},
   "outputs": [
    {
     "data": {
      "text/plain": [
       "Chevrolet        1123\n",
       "Ford              881\n",
       "Volkswagen        809\n",
       "Toyota            746\n",
       "Dodge             626\n",
       "Nissan            558\n",
       "GMC               515\n",
       "Honda             449\n",
       "Mazda             423\n",
       "Cadillac          397\n",
       "Mercedes-Benz     353\n",
       "Suzuki            351\n",
       "BMW               334\n",
       "Infiniti          330\n",
       "Audi              328\n",
       "Hyundai           303\n",
       "Volvo             281\n",
       "Subaru            256\n",
       "Acura             252\n",
       "Kia               231\n",
       "Mitsubishi        213\n",
       "Lexus             202\n",
       "Buick             196\n",
       "Chrysler          187\n",
       "Pontiac           186\n",
       "Lincoln           164\n",
       "Oldsmobile        150\n",
       "Land Rover        143\n",
       "Porsche           136\n",
       "Saab              111\n",
       "Aston Martin       93\n",
       "Plymouth           82\n",
       "Bentley            74\n",
       "Ferrari            69\n",
       "FIAT               62\n",
       "Scion              60\n",
       "Maserati           58\n",
       "Lamborghini        52\n",
       "Rolls-Royce        31\n",
       "Lotus              29\n",
       "Tesla              18\n",
       "HUMMER             17\n",
       "Maybach            16\n",
       "Alfa Romeo          5\n",
       "McLaren             5\n",
       "Spyker              3\n",
       "Genesis             3\n",
       "Bugatti             3\n",
       "Name: Make, dtype: int64"
      ]
     },
     "execution_count": 8,
     "metadata": {},
     "output_type": "execute_result"
    }
   ],
   "source": [
    "df[\"Make\"].value_counts()"
   ]
  },
  {
   "cell_type": "markdown",
   "id": "466bc533",
   "metadata": {},
   "source": [
    "#### 4. Uniqe Audi car models\n",
    "> 16"
   ]
  },
  {
   "cell_type": "code",
   "execution_count": 9,
   "id": "451fe104",
   "metadata": {},
   "outputs": [
    {
     "data": {
      "text/plain": [
       "16"
      ]
     },
     "execution_count": 9,
     "metadata": {},
     "output_type": "execute_result"
    }
   ],
   "source": [
    "aud = df[df['Make'] == 'Audi']\n",
    "aud.head()\n",
    "aud.nunique().count()"
   ]
  },
  {
   "cell_type": "markdown",
   "id": "73dd048a",
   "metadata": {},
   "source": [
    "#### 5. Columns with missing dataset\n",
    "> 5"
   ]
  },
  {
   "cell_type": "code",
   "execution_count": 10,
   "id": "6efd426d",
   "metadata": {},
   "outputs": [
    {
     "data": {
      "text/plain": [
       "Make                    0\n",
       "Model                   0\n",
       "Year                    0\n",
       "Engine Fuel Type        3\n",
       "Engine HP              69\n",
       "Engine Cylinders       30\n",
       "Transmission Type       0\n",
       "Driven_Wheels           0\n",
       "Number of Doors         6\n",
       "Market Category      3742\n",
       "Vehicle Size            0\n",
       "Vehicle Style           0\n",
       "highway MPG             0\n",
       "city mpg                0\n",
       "Popularity              0\n",
       "MSRP                    0\n",
       "dtype: int64"
      ]
     },
     "execution_count": 10,
     "metadata": {},
     "output_type": "execute_result"
    }
   ],
   "source": [
    "df.isnull().sum()"
   ]
  },
  {
   "cell_type": "code",
   "execution_count": 11,
   "id": "f2944f3a",
   "metadata": {},
   "outputs": [
    {
     "data": {
      "text/plain": [
       "5"
      ]
     },
     "execution_count": 11,
     "metadata": {},
     "output_type": "execute_result"
    }
   ],
   "source": [
    "(df.isnull().sum() != 0).sum()"
   ]
  },
  {
   "cell_type": "markdown",
   "id": "e3d8b23c",
   "metadata": {},
   "source": [
    "#### 6. Engine Cylinders\n",
    "> * median = 6.0\n",
    "> * most frequent = 4.0"
   ]
  },
  {
   "cell_type": "code",
   "execution_count": 12,
   "id": "8cf0b8c4",
   "metadata": {},
   "outputs": [
    {
     "data": {
      "text/plain": [
       "6.0"
      ]
     },
     "execution_count": 12,
     "metadata": {},
     "output_type": "execute_result"
    }
   ],
   "source": [
    "df[\"Engine Cylinders\"].median()"
   ]
  },
  {
   "cell_type": "code",
   "execution_count": 13,
   "id": "32463ace",
   "metadata": {},
   "outputs": [
    {
     "data": {
      "text/plain": [
       "4.0     4752\n",
       "6.0     4489\n",
       "8.0     2031\n",
       "12.0     230\n",
       "5.0      225\n",
       "10.0      68\n",
       "0.0       56\n",
       "3.0       30\n",
       "16.0       3\n",
       "Name: Engine Cylinders, dtype: int64"
      ]
     },
     "execution_count": 13,
     "metadata": {},
     "output_type": "execute_result"
    }
   ],
   "source": [
    "# Most frequest value (mode)\n",
    "df[\"Engine Cylinders\"].value_counts()"
   ]
  },
  {
   "cell_type": "code",
   "execution_count": 14,
   "id": "fc33cd7a",
   "metadata": {},
   "outputs": [
    {
     "data": {
      "text/plain": [
       "4.0"
      ]
     },
     "execution_count": 14,
     "metadata": {},
     "output_type": "execute_result"
    }
   ],
   "source": [
    "# mode\n",
    "mode = df[\"Engine Cylinders\"].mode()[0]\n",
    "mode"
   ]
  },
  {
   "cell_type": "code",
   "execution_count": 15,
   "id": "bdc71551",
   "metadata": {},
   "outputs": [
    {
     "data": {
      "text/plain": [
       "0        6.0\n",
       "1        6.0\n",
       "2        6.0\n",
       "3        6.0\n",
       "4        6.0\n",
       "        ... \n",
       "11909    6.0\n",
       "11910    6.0\n",
       "11911    6.0\n",
       "11912    6.0\n",
       "11913    6.0\n",
       "Name: Engine Cylinders, Length: 11914, dtype: float64"
      ]
     },
     "execution_count": 15,
     "metadata": {},
     "output_type": "execute_result"
    }
   ],
   "source": [
    "df[\"Engine Cylinders\"].fillna(mode)\n"
   ]
  },
  {
   "cell_type": "code",
   "execution_count": 16,
   "id": "cf5f357f",
   "metadata": {},
   "outputs": [
    {
     "data": {
      "text/plain": [
       "6.0"
      ]
     },
     "execution_count": 16,
     "metadata": {},
     "output_type": "execute_result"
    }
   ],
   "source": [
    "df[\"Engine Cylinders\"].median()"
   ]
  },
  {
   "cell_type": "markdown",
   "id": "6ef443b7",
   "metadata": {},
   "source": [
    "#### 7. Lotus"
   ]
  },
  {
   "cell_type": "code",
   "execution_count": 17,
   "id": "a3e0737c",
   "metadata": {},
   "outputs": [
    {
     "data": {
      "text/html": [
       "<div>\n",
       "<style scoped>\n",
       "    .dataframe tbody tr th:only-of-type {\n",
       "        vertical-align: middle;\n",
       "    }\n",
       "\n",
       "    .dataframe tbody tr th {\n",
       "        vertical-align: top;\n",
       "    }\n",
       "\n",
       "    .dataframe thead th {\n",
       "        text-align: right;\n",
       "    }\n",
       "</style>\n",
       "<table border=\"1\" class=\"dataframe\">\n",
       "  <thead>\n",
       "    <tr style=\"text-align: right;\">\n",
       "      <th></th>\n",
       "      <th>Engine HP</th>\n",
       "      <th>Engine Cylinders</th>\n",
       "    </tr>\n",
       "  </thead>\n",
       "  <tbody>\n",
       "    <tr>\n",
       "      <th>3912</th>\n",
       "      <td>189.0</td>\n",
       "      <td>4.0</td>\n",
       "    </tr>\n",
       "    <tr>\n",
       "      <th>3913</th>\n",
       "      <td>218.0</td>\n",
       "      <td>4.0</td>\n",
       "    </tr>\n",
       "    <tr>\n",
       "      <th>3914</th>\n",
       "      <td>189.0</td>\n",
       "      <td>4.0</td>\n",
       "    </tr>\n",
       "    <tr>\n",
       "      <th>3915</th>\n",
       "      <td>189.0</td>\n",
       "      <td>4.0</td>\n",
       "    </tr>\n",
       "    <tr>\n",
       "      <th>3916</th>\n",
       "      <td>218.0</td>\n",
       "      <td>4.0</td>\n",
       "    </tr>\n",
       "  </tbody>\n",
       "</table>\n",
       "</div>"
      ],
      "text/plain": [
       "      Engine HP  Engine Cylinders\n",
       "3912      189.0               4.0\n",
       "3913      218.0               4.0\n",
       "3914      189.0               4.0\n",
       "3915      189.0               4.0\n",
       "3916      218.0               4.0"
      ]
     },
     "execution_count": 17,
     "metadata": {},
     "output_type": "execute_result"
    }
   ],
   "source": [
    "lotus = df[df[\"Make\"] == 'Lotus']\n",
    "lotus = lotus[[\"Engine HP\",\"Engine Cylinders\"]]\n",
    "lotus.head()"
   ]
  },
  {
   "cell_type": "code",
   "execution_count": 18,
   "id": "16abfb2b",
   "metadata": {},
   "outputs": [
    {
     "data": {
      "text/plain": [
       "29"
      ]
     },
     "execution_count": 18,
     "metadata": {},
     "output_type": "execute_result"
    }
   ],
   "source": [
    "lotus.shape[0]"
   ]
  },
  {
   "cell_type": "code",
   "execution_count": 19,
   "id": "c0805236",
   "metadata": {},
   "outputs": [
    {
     "data": {
      "text/plain": [
       "29"
      ]
     },
     "execution_count": 19,
     "metadata": {},
     "output_type": "execute_result"
    }
   ],
   "source": [
    "lotus.duplicated().count()"
   ]
  },
  {
   "cell_type": "code",
   "execution_count": 22,
   "id": "8d251a25",
   "metadata": {},
   "outputs": [],
   "source": [
    "lotus = lotus.drop_duplicates()"
   ]
  },
  {
   "cell_type": "code",
   "execution_count": 23,
   "id": "8fa990c9",
   "metadata": {},
   "outputs": [
    {
     "data": {
      "text/plain": [
       "9"
      ]
     },
     "execution_count": 23,
     "metadata": {},
     "output_type": "execute_result"
    }
   ],
   "source": [
    "lotus.shape[0]"
   ]
  },
  {
   "cell_type": "code",
   "execution_count": 24,
   "id": "879fd2bd",
   "metadata": {},
   "outputs": [
    {
     "data": {
      "text/plain": [
       "array([[189.,   4.],\n",
       "       [218.,   4.],\n",
       "       [217.,   4.],\n",
       "       [350.,   8.],\n",
       "       [400.,   6.],\n",
       "       [276.,   6.],\n",
       "       [345.,   6.],\n",
       "       [257.,   4.],\n",
       "       [240.,   4.]])"
      ]
     },
     "execution_count": 24,
     "metadata": {},
     "output_type": "execute_result"
    }
   ],
   "source": [
    "X = np.array(lotus)\n",
    "X"
   ]
  },
  {
   "cell_type": "code",
   "execution_count": 26,
   "id": "bd1e8d07",
   "metadata": {},
   "outputs": [
    {
     "data": {
      "text/plain": [
       "array([[7.31684e+05, 1.34100e+04],\n",
       "       [1.34100e+04, 2.52000e+02]])"
      ]
     },
     "execution_count": 26,
     "metadata": {},
     "output_type": "execute_result"
    }
   ],
   "source": [
    "XTX = X.T @ X\n",
    "XTX"
   ]
  },
  {
   "cell_type": "code",
   "execution_count": 28,
   "id": "40ad93ae",
   "metadata": {},
   "outputs": [
    {
     "data": {
      "text/plain": [
       "array([[ 5.53084235e-05, -2.94319825e-03],\n",
       "       [-2.94319825e-03,  1.60588447e-01]])"
      ]
     },
     "execution_count": 28,
     "metadata": {},
     "output_type": "execute_result"
    }
   ],
   "source": [
    "XTX_inv = np.linalg.inv(XTX)\n",
    "XTX_inv"
   ]
  },
  {
   "cell_type": "code",
   "execution_count": 29,
   "id": "a2653533",
   "metadata": {},
   "outputs": [
    {
     "data": {
      "text/plain": [
       "array([1100,  800,  750,  850, 1300, 1000, 1000, 1300,  800])"
      ]
     },
     "execution_count": 29,
     "metadata": {},
     "output_type": "execute_result"
    }
   ],
   "source": [
    "y = np.array([1100, 800, 750, 850, 1300, 1000, 1000, 1300, 800])\n",
    "y"
   ]
  },
  {
   "cell_type": "code",
   "execution_count": 30,
   "id": "d5c38a2b",
   "metadata": {},
   "outputs": [
    {
     "data": {
      "text/plain": [
       "array([  4.59494481, -63.56432501])"
      ]
     },
     "execution_count": 30,
     "metadata": {},
     "output_type": "execute_result"
    }
   ],
   "source": [
    "w = (XTX_inv @ X.T) @ y\n",
    "w"
   ]
  },
  {
   "cell_type": "code",
   "execution_count": 31,
   "id": "1051443d",
   "metadata": {},
   "outputs": [
    {
     "data": {
      "text/plain": [
       "4.594944810094551"
      ]
     },
     "execution_count": 31,
     "metadata": {},
     "output_type": "execute_result"
    }
   ],
   "source": [
    "w[0]"
   ]
  },
  {
   "cell_type": "code",
   "execution_count": null,
   "id": "3ce28a3e",
   "metadata": {},
   "outputs": [],
   "source": []
  }
 ],
 "metadata": {
  "kernelspec": {
   "display_name": "Python 3 (ipykernel)",
   "language": "python",
   "name": "python3"
  },
  "language_info": {
   "codemirror_mode": {
    "name": "ipython",
    "version": 3
   },
   "file_extension": ".py",
   "mimetype": "text/x-python",
   "name": "python",
   "nbconvert_exporter": "python",
   "pygments_lexer": "ipython3",
   "version": "3.10.4"
  }
 },
 "nbformat": 4,
 "nbformat_minor": 5
}
