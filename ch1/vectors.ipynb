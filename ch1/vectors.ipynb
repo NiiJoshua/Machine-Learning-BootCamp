{
 "cells": [
  {
   "cell_type": "markdown",
   "id": "c1e23dfc",
   "metadata": {},
   "source": [
    "## Vector operations"
   ]
  },
  {
   "cell_type": "code",
   "execution_count": 2,
   "id": "59087ba8",
   "metadata": {},
   "outputs": [],
   "source": [
    "import numpy as np"
   ]
  },
  {
   "cell_type": "code",
   "execution_count": 3,
   "id": "88b01530",
   "metadata": {},
   "outputs": [
    {
     "data": {
      "text/plain": [
       "array([ 5, 11, 13, 12])"
      ]
     },
     "execution_count": 3,
     "metadata": {},
     "output_type": "execute_result"
    }
   ],
   "source": [
    "u = np.array([2,7,5,6])\n",
    "v = np.array([3,4,8,6])\n",
    "\n",
    "# addition\n",
    "u + v"
   ]
  },
  {
   "cell_type": "code",
   "execution_count": 4,
   "id": "d277e752",
   "metadata": {},
   "outputs": [
    {
     "data": {
      "text/plain": [
       "array([-1,  3, -3,  0])"
      ]
     },
     "execution_count": 4,
     "metadata": {},
     "output_type": "execute_result"
    }
   ],
   "source": [
    "# substraction\n",
    "u - v "
   ]
  },
  {
   "cell_type": "code",
   "execution_count": 5,
   "id": "93c0d3af",
   "metadata": {},
   "outputs": [
    {
     "data": {
      "text/plain": [
       "array([ 6,  8, 16, 12])"
      ]
     },
     "execution_count": 5,
     "metadata": {},
     "output_type": "execute_result"
    }
   ],
   "source": [
    "# scalar multiplication\n",
    "2 * v"
   ]
  },
  {
   "cell_type": "markdown",
   "id": "40c43afa",
   "metadata": {},
   "source": [
    "## Multiplication\n",
    "\n",
    "### vector-vector multiplication\n"
   ]
  },
  {
   "cell_type": "code",
   "execution_count": 6,
   "id": "0d8ff1e5",
   "metadata": {},
   "outputs": [
    {
     "name": "stdout",
     "output_type": "stream",
     "text": [
      "shape of u is:(4,)\n",
      "shape of v is:(4,)\n"
     ]
    }
   ],
   "source": [
    "print(f'shape of u is:{u.shape}')\n",
    "print(f'shape of v is:{v.shape}')"
   ]
  },
  {
   "cell_type": "code",
   "execution_count": 7,
   "id": "0afa8b5c",
   "metadata": {},
   "outputs": [],
   "source": [
    "def vec_mult(u,v):\n",
    "    assert u.shape[0] == v.shape[0] #making sure the vectors are of the same size\n",
    "    \n",
    "    n = u.shape[0]\n",
    "    result = 0.0\n",
    "    for i in range(n):\n",
    "        result = result + u[i] * v[i]\n",
    "    return result\n",
    "    "
   ]
  },
  {
   "cell_type": "code",
   "execution_count": 8,
   "id": "9030cd44",
   "metadata": {},
   "outputs": [
    {
     "data": {
      "text/plain": [
       "110.0"
      ]
     },
     "execution_count": 8,
     "metadata": {},
     "output_type": "execute_result"
    }
   ],
   "source": [
    "vec_mult(u,v)"
   ]
  },
  {
   "cell_type": "code",
   "execution_count": 9,
   "id": "6bfe2312",
   "metadata": {},
   "outputs": [
    {
     "data": {
      "text/plain": [
       "110"
      ]
     },
     "execution_count": 9,
     "metadata": {},
     "output_type": "execute_result"
    }
   ],
   "source": [
    "# alternative approach\n",
    "u.dot(v)"
   ]
  },
  {
   "cell_type": "markdown",
   "id": "77b96327",
   "metadata": {},
   "source": [
    "### Matrix-vector multiplication"
   ]
  },
  {
   "cell_type": "code",
   "execution_count": 10,
   "id": "3c90a51c",
   "metadata": {},
   "outputs": [
    {
     "data": {
      "text/plain": [
       "(3, 4)"
      ]
     },
     "execution_count": 10,
     "metadata": {},
     "output_type": "execute_result"
    }
   ],
   "source": [
    "x = np.array([\n",
    "    [2,4,5,6],\n",
    "    [1,2,1,2],\n",
    "    [3,1,2,1]\n",
    "])\n",
    "\n",
    "x.shape"
   ]
  },
  {
   "cell_type": "code",
   "execution_count": 14,
   "id": "52933369",
   "metadata": {},
   "outputs": [
    {
     "name": "stdout",
     "output_type": "stream",
     "text": [
      "no. of rows: 3\n",
      "no. of columns: 4\n"
     ]
    }
   ],
   "source": [
    "print(f'no. of rows: {x.shape[0]}') # [0] is for rows\n",
    "print(f'no. of columns: {x.shape[1]}') # [1] is for columns"
   ]
  },
  {
   "cell_type": "code",
   "execution_count": 16,
   "id": "1c890777",
   "metadata": {},
   "outputs": [],
   "source": [
    "def matrix_vector_mul(x,v):\n",
    "    assert x.shape[1] == v.shape[0]\n",
    "    num_rows = x.shape[0]\n",
    "    result = np.zeros(num_rows)\n",
    "    \n",
    "    for i in range(num_rows):\n",
    "        result[i] = vec_mult(x[i],v)\n",
    "    return result"
   ]
  },
  {
   "cell_type": "code",
   "execution_count": 17,
   "id": "d49625b7",
   "metadata": {},
   "outputs": [
    {
     "data": {
      "text/plain": [
       "array([98., 31., 35.])"
      ]
     },
     "execution_count": 17,
     "metadata": {},
     "output_type": "execute_result"
    }
   ],
   "source": [
    "matrix_vector_mul(x,v)"
   ]
  },
  {
   "cell_type": "code",
   "execution_count": 18,
   "id": "5a3264db",
   "metadata": {},
   "outputs": [
    {
     "data": {
      "text/plain": [
       "array([98, 31, 35])"
      ]
     },
     "execution_count": 18,
     "metadata": {},
     "output_type": "execute_result"
    }
   ],
   "source": [
    "x.dot(v)"
   ]
  },
  {
   "cell_type": "markdown",
   "id": "16e50608",
   "metadata": {},
   "source": [
    "### Matrix-matrix multiplication"
   ]
  },
  {
   "cell_type": "code",
   "execution_count": 19,
   "id": "4a48ab68",
   "metadata": {},
   "outputs": [],
   "source": [
    "y = np.array([[1,1,2],\n",
    "              [0,0.5,1],\n",
    "              [0,2,1],\n",
    "              [2,1,0]\n",
    "             ])\n",
    " "
   ]
  },
  {
   "cell_type": "code",
   "execution_count": 24,
   "id": "c0cb41b5",
   "metadata": {},
   "outputs": [],
   "source": [
    "def matrix_matrix_mul(x,y):\n",
    "    assert x.shape[1] == y.shape[0]\n",
    "    \n",
    "    num_rows = x.shape[0]\n",
    "    num_cols = y.shape[1]\n",
    "    \n",
    "    result = np.zeros((num_rows, num_cols))\n",
    "    \n",
    "    for i in range(num_cols):\n",
    "        yi = y[:,i]\n",
    "        uyi = matrix_vector_mul(x,yi)\n",
    "        result[:,i] = uyi\n",
    "        \n",
    "    return result"
   ]
  },
  {
   "cell_type": "code",
   "execution_count": 25,
   "id": "c0e15e9d",
   "metadata": {},
   "outputs": [
    {
     "data": {
      "text/plain": [
       "array([[14. , 20. , 13. ],\n",
       "       [ 5. ,  6. ,  5. ],\n",
       "       [ 5. ,  8.5,  9. ]])"
      ]
     },
     "execution_count": 25,
     "metadata": {},
     "output_type": "execute_result"
    }
   ],
   "source": [
    "matrix_matrix_mul(x,y)"
   ]
  },
  {
   "cell_type": "code",
   "execution_count": 26,
   "id": "586130fd",
   "metadata": {},
   "outputs": [
    {
     "data": {
      "text/plain": [
       "array([[14. , 20. , 13. ],\n",
       "       [ 5. ,  6. ,  5. ],\n",
       "       [ 5. ,  8.5,  9. ]])"
      ]
     },
     "execution_count": 26,
     "metadata": {},
     "output_type": "execute_result"
    }
   ],
   "source": [
    "x.dot(y)"
   ]
  },
  {
   "cell_type": "code",
   "execution_count": 29,
   "id": "931322a7",
   "metadata": {},
   "outputs": [
    {
     "data": {
      "text/plain": [
       "array([[1., 0., 0.],\n",
       "       [0., 1., 0.],\n",
       "       [0., 0., 1.]])"
      ]
     },
     "execution_count": 29,
     "metadata": {},
     "output_type": "execute_result"
    }
   ],
   "source": [
    "# Identity matrix\n",
    "I = np.eye(3)\n",
    "I"
   ]
  },
  {
   "cell_type": "code",
   "execution_count": 32,
   "id": "a86f91a5",
   "metadata": {},
   "outputs": [
    {
     "data": {
      "text/plain": [
       "array([[-0.1503268 ,  0.90849673, -0.2875817 ],\n",
       "       [ 0.26143791, -0.79738562,  0.06535948],\n",
       "       [-0.16339869,  0.24836601,  0.20915033]])"
      ]
     },
     "execution_count": 32,
     "metadata": {},
     "output_type": "execute_result"
    }
   ],
   "source": [
    "# Inverse\n",
    "inv = np.linalg.inv(x.dot(y))\n",
    "inv"
   ]
  },
  {
   "cell_type": "code",
   "execution_count": null,
   "id": "96b3b035",
   "metadata": {},
   "outputs": [],
   "source": []
  }
 ],
 "metadata": {
  "kernelspec": {
   "display_name": "Python 3 (ipykernel)",
   "language": "python",
   "name": "python3"
  },
  "language_info": {
   "codemirror_mode": {
    "name": "ipython",
    "version": 3
   },
   "file_extension": ".py",
   "mimetype": "text/x-python",
   "name": "python",
   "nbconvert_exporter": "python",
   "pygments_lexer": "ipython3",
   "version": "3.10.4"
  }
 },
 "nbformat": 4,
 "nbformat_minor": 5
}
